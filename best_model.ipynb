{
  "nbformat": 4,
  "nbformat_minor": 0,
  "metadata": {
    "colab": {
      "name": "best_model.ipynb",
      "provenance": [],
      "collapsed_sections": []
    },
    "kernelspec": {
      "name": "python3",
      "display_name": "Python 3"
    },
    "accelerator": "GPU"
  },
  "cells": [
    {
      "cell_type": "code",
      "metadata": {
        "id": "zUJHrmA_iNDj",
        "colab_type": "code",
        "outputId": "611ce6dc-f022-4dac-ea65-9ac236eceb00",
        "colab": {
          "base_uri": "https://localhost:8080/",
          "height": 122
        }
      },
      "source": [
        "from google.colab import drive\n",
        "drive.mount('/content/drive')"
      ],
      "execution_count": 0,
      "outputs": [
        {
          "output_type": "stream",
          "text": [
            "Go to this URL in a browser: https://accounts.google.com/o/oauth2/auth?client_id=947318989803-6bn6qk8qdgf4n4g3pfee6491hc0brc4i.apps.googleusercontent.com&redirect_uri=urn%3aietf%3awg%3aoauth%3a2.0%3aoob&response_type=code&scope=email%20https%3a%2f%2fwww.googleapis.com%2fauth%2fdocs.test%20https%3a%2f%2fwww.googleapis.com%2fauth%2fdrive%20https%3a%2f%2fwww.googleapis.com%2fauth%2fdrive.photos.readonly%20https%3a%2f%2fwww.googleapis.com%2fauth%2fpeopleapi.readonly\n",
            "\n",
            "Enter your authorization code:\n",
            "··········\n",
            "Mounted at /content/drive\n"
          ],
          "name": "stdout"
        }
      ]
    },
    {
      "cell_type": "code",
      "metadata": {
        "id": "idsCWUdaiZO1",
        "colab_type": "code",
        "outputId": "326d80bc-81f5-43c6-c1f7-253c6df8e0b5",
        "colab": {
          "base_uri": "https://localhost:8080/",
          "height": 136
        }
      },
      "source": [
        "import keras\n",
        "from keras.preprocessing.image import ImageDataGenerator\n",
        "from keras.models import Sequential\n",
        "from keras.layers import Dense\n",
        "from keras.applications.vgg16 import preprocess_input as preprocess_input_vgg16\n",
        "from keras.applications.vgg19 import preprocess_input as preprocess_input_vgg19\n",
        "from keras.applications.resnet50 import preprocess_input as preprocess_input_resnet50\n",
        "from keras.models import load_model\n",
        "\n",
        "image_resize = 224\n",
        "batch_size_testing = 32\n",
        "\n",
        "#loading the models\n",
        "vgg16_model = load_model('/content/drive/My Drive/TransferLearning_OpenCV/facefeatures_vgg16.h5' , compile=False)\n",
        "resnet50_model = load_model('/content/drive/My Drive/TransferLearning_OpenCV/facefeatures_resnet50.h5', compile=False)\n",
        "vgg19_model = load_model('/content/drive/My Drive/TransferLearning_OpenCV/facefeatures_vgg19.h5', compile=False)\n",
        "\n",
        "# recompiling\n",
        "vgg16_model.compile(optimizer='adam', loss='categorical_crossentropy', metrics=['accuracy'])\n",
        "resnet50_model.compile(optimizer='adam', loss='categorical_crossentropy', metrics=['accuracy'])\n",
        "vgg19_model.compile(optimizer='adam', loss='categorical_crossentropy', metrics=['accuracy'])\n",
        "\n",
        "# constructing DataGenerator for test set\n",
        "data_generator_vgg16 = ImageDataGenerator(preprocessing_function=preprocess_input_vgg16)\n",
        "data_generator_vgg19 = ImageDataGenerator(preprocessing_function=preprocess_input_vgg19)\n",
        "data_generator_resnet50 = ImageDataGenerator(preprocessing_function=preprocess_input_resnet50)\n",
        "\n",
        "# reading the mages\n",
        "test_generator_vgg16 = data_generator_vgg16.flow_from_directory(\n",
        "    '/content/drive/My Drive/TransferLearning_OpenCV/dataset/test',\n",
        "    target_size=(image_resize, image_resize),\n",
        "    batch_size=batch_size_testing,\n",
        "    shuffle = False\n",
        "    )\n",
        "\n",
        "test_generator_vgg19 = data_generator_vgg19.flow_from_directory(\n",
        "    '/content/drive/My Drive/TransferLearning_OpenCV/dataset/test',\n",
        "    target_size=(image_resize, image_resize),\n",
        "    batch_size=batch_size_testing,\n",
        "    shuffle = False\n",
        "    )\n",
        "\n",
        "test_generator_resnet50 = data_generator_resnet50.flow_from_directory(\n",
        "    '/content/drive/My Drive/TransferLearning_OpenCV/dataset/test',\n",
        "    target_size=(image_resize, image_resize),\n",
        "    batch_size=batch_size_testing,\n",
        "    shuffle = False\n",
        "    )\n",
        "\n",
        "#evaluation of VGG16 model\n",
        "vgg16_eval = vgg16_model.evaluate_generator(\n",
        "    test_generator_vgg16\n",
        ")\n",
        "print(\"VGG16 accuracy = \", vgg16_eval[1])\n",
        "\n",
        "#evaluation of ResNet50 model\n",
        "resnet50_eval = resnet50_model.evaluate_generator(\n",
        "    test_generator_resnet50\n",
        ")\n",
        "print(\"ResNet50 accuracy = \", resnet50_eval[1])\n",
        "\n",
        "#evaluation of VGG19 model\n",
        "vgg19_eval = vgg19_model.evaluate_generator(\n",
        "    test_generator_vgg19\n",
        ")\n",
        "print(\"VGG19 accuracy = \",vgg19_eval[1])"
      ],
      "execution_count": 0,
      "outputs": [
        {
          "output_type": "stream",
          "text": [
            "Using TensorFlow backend.\n"
          ],
          "name": "stderr"
        },
        {
          "output_type": "stream",
          "text": [
            "Found 596 images belonging to 3 classes.\n",
            "Found 596 images belonging to 3 classes.\n",
            "Found 596 images belonging to 3 classes.\n",
            "VGG16 accuracy =  0.9832214713096619\n",
            "ResNet50 accuracy =  0.9848993420600891\n",
            "VGG19 accuracy =  0.9798657894134521\n"
          ],
          "name": "stdout"
        }
      ]
    },
    {
      "cell_type": "code",
      "metadata": {
        "id": "zVUkGnVrBElF",
        "colab_type": "code",
        "outputId": "62168cdd-c972-4567-92b1-541e0a090782",
        "colab": {
          "base_uri": "https://localhost:8080/",
          "height": 34
        }
      },
      "source": [
        "# best model\n",
        "while True:\n",
        "  if resnet50_eval[1] >= vgg16_eval[1] and resnet50_eval[1] >= vgg19_eval[1]:\n",
        "    print(\"best model is ResNet50\")\n",
        "    resnet50_model.save(\"best_model.h5\")\n",
        "    resnet50_model.save(\"/content/drive/My Drive/TransferLearning_OpenCV/best_model.h5\")\n",
        "    break\n",
        "  elif vgg16_eval[1] >= vgg19_eval[1] and vgg16_eval[1] >= resnet50_eval[1]:\n",
        "    print(\"best model is VGG16\")\n",
        "    vgg16_model.save(\"best_model.h5\")\n",
        "    vgg16_model.save(\"/content/drive/My Drive/TransferLearning_OpenCV/best_model.h5\")\n",
        "    break\n",
        "  elif vgg19_eval[1] >= vgg16_eval[1] and vgg19_eval[1] >= resnet50_eval[1]:\n",
        "    print(\"best model is VGG19\")\n",
        "    vgg19_model.save(\"best_model.h5\")\n",
        "    vgg19_model.save(\"/content/drive/My Drive/TransferLearning_OpenCV/best_model.h5\")\n",
        "    break\n"
      ],
      "execution_count": 0,
      "outputs": [
        {
          "output_type": "stream",
          "text": [
            "best model is ResNet50\n"
          ],
          "name": "stdout"
        }
      ]
    }
  ]
}