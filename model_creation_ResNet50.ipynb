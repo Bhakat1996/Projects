{
  "nbformat": 4,
  "nbformat_minor": 0,
  "metadata": {
    "colab": {
      "name": "model_creation_ResNet50.ipynb",
      "provenance": [],
      "collapsed_sections": []
    },
    "kernelspec": {
      "name": "python3",
      "display_name": "Python 3"
    },
    "accelerator": "GPU"
  },
  "cells": [
    {
      "cell_type": "code",
      "metadata": {
        "id": "vzV_BLrsbCk9",
        "colab_type": "code",
        "outputId": "68c887fc-8a0e-4c2c-f49d-3751fba8c112",
        "colab": {
          "base_uri": "https://localhost:8080/",
          "height": 122
        }
      },
      "source": [
        "from google.colab import drive\n",
        "drive.mount('/content/drive')"
      ],
      "execution_count": 0,
      "outputs": [
        {
          "output_type": "stream",
          "text": [
            "Go to this URL in a browser: https://accounts.google.com/o/oauth2/auth?client_id=947318989803-6bn6qk8qdgf4n4g3pfee6491hc0brc4i.apps.googleusercontent.com&redirect_uri=urn%3aietf%3awg%3aoauth%3a2.0%3aoob&response_type=code&scope=email%20https%3a%2f%2fwww.googleapis.com%2fauth%2fdocs.test%20https%3a%2f%2fwww.googleapis.com%2fauth%2fdrive%20https%3a%2f%2fwww.googleapis.com%2fauth%2fdrive.photos.readonly%20https%3a%2f%2fwww.googleapis.com%2fauth%2fpeopleapi.readonly\n",
            "\n",
            "Enter your authorization code:\n",
            "··········\n",
            "Mounted at /content/drive\n"
          ],
          "name": "stdout"
        }
      ]
    },
    {
      "cell_type": "code",
      "metadata": {
        "id": "9bNeKk6YbS5x",
        "colab_type": "code",
        "outputId": "ff54edb0-5087-467a-a50d-28dbde9a8548",
        "colab": {
          "base_uri": "https://localhost:8080/",
          "height": 972
        }
      },
      "source": [
        "from keras.layers import Dense # , Flatten\n",
        "from keras.applications import ResNet50\n",
        "from keras.applications.resnet50 import preprocess_input\n",
        "from keras.preprocessing.image import ImageDataGenerator\n",
        "from keras.models import Sequential\n",
        "from glob import glob\n",
        "import matplotlib.pyplot as plt\n",
        "\n",
        "#creating the classifier\n",
        "image_resize = 224\n",
        "batch_size_training = 32\n",
        "batch_size_validation = 32\n",
        "\n",
        "# get number of classes\n",
        "folders = glob('/content/drive/My Drive/TransferLearning_OpenCV/dataset/train/*')\n",
        "num_classes = len(folders)\n",
        "\n",
        "#building the model\n",
        "model = Sequential()\n",
        "model.add(ResNet50(\n",
        "    input_shape=[image_resize,image_resize]+[3],\n",
        "    include_top=False,\n",
        "    pooling='avg',\n",
        "    weights='imagenet',\n",
        "    ))\n",
        "#model.add(Flatten())\n",
        "#model.add(Dense(1000, activation='relu'))\n",
        "model.add(Dense(num_classes, activation='softmax'))\n",
        "\n",
        "# don't train existing weights\n",
        "model.layers[0].trainable = False\n",
        "\n",
        "print(\"layers of the model = \\n\",model.layers,\"\\n\")\n",
        "# print(\"resnet50 layers = \\n\",model.layers[0].layers)\n",
        "# print(\"output layer = \\n\",model.layers[1])\n",
        "print(model.summary())\n",
        "\n",
        "# compile model\n",
        "model.compile(\n",
        "    loss='categorical_crossentropy',\n",
        "    optimizer='adam',\n",
        "    metrics=['accuracy']\n",
        "    )\n",
        "\n",
        "# constructing DataGenerator for training and validation set\n",
        "data_generator = ImageDataGenerator(\n",
        "    preprocessing_function=preprocess_input,\n",
        "    #rescale = 1./255,\n",
        "    #shear_range = 0.2,\n",
        "    #zoom_range = 0.2,\n",
        "    #horizontal_flip = True\n",
        ")\n",
        "\n",
        "# reading the images\n",
        "train_generator = data_generator.flow_from_directory(\n",
        "    '/content/drive/My Drive/TransferLearning_OpenCV/dataset/train',\n",
        "    target_size=(image_resize, image_resize),\n",
        "    batch_size=batch_size_training,\n",
        "    class_mode='categorical'\n",
        ")\n",
        "\n",
        "validation_generator = data_generator.flow_from_directory(\n",
        "    '/content/drive/My Drive/TransferLearning_OpenCV/dataset/valid',\n",
        "    target_size = (image_resize, image_resize),\n",
        "    batch_size = batch_size_validation,\n",
        "    class_mode = 'categorical'\n",
        ")\n",
        "\n",
        "steps_per_epoch_training = len(train_generator)\n",
        "steps_per_epoch_validation = len(validation_generator)\n",
        "num_epochs = 3\n",
        "\n",
        "# fitting the model\n",
        "fit_history = model.fit_generator(\n",
        "    train_generator,\n",
        "    steps_per_epoch=steps_per_epoch_training,\n",
        "    epochs=num_epochs,\n",
        "    validation_data=validation_generator,\n",
        "    validation_steps=steps_per_epoch_validation,\n",
        "    verbose=1,\n",
        ")\n",
        "\n",
        "# loss\n",
        "plt.plot(fit_history.history['loss'], label='train loss')\n",
        "plt.plot(fit_history.history['val_loss'], label='val loss')\n",
        "plt.legend()\n",
        "plt.show()\n",
        "\n",
        "# accuracies\n",
        "plt.plot(fit_history.history['accuracy'], label='train acc')\n",
        "plt.plot(fit_history.history['val_accuracy'], label='val acc')\n",
        "plt.legend()\n",
        "plt.show()\n",
        "\n",
        "model.save('facefeatures_resnet50.h5')\n",
        "model.save(\"/content/drive/My Drive/TransferLearning_OpenCV/facefeatures_resnet50.h5\")"
      ],
      "execution_count": 0,
      "outputs": [
        {
          "output_type": "stream",
          "text": [
            "Using TensorFlow backend.\n"
          ],
          "name": "stderr"
        },
        {
          "output_type": "stream",
          "text": [
            "Downloading data from https://github.com/fchollet/deep-learning-models/releases/download/v0.2/resnet50_weights_tf_dim_ordering_tf_kernels_notop.h5\n",
            "94658560/94653016 [==============================] - 4s 0us/step\n",
            "layers of the model = \n",
            " [<keras.engine.training.Model object at 0x7fe018f2a5f8>, <keras.layers.core.Dense object at 0x7fe08abac780>] \n",
            "\n",
            "Model: \"sequential_1\"\n",
            "_________________________________________________________________\n",
            "Layer (type)                 Output Shape              Param #   \n",
            "=================================================================\n",
            "resnet50 (Model)             (None, 2048)              23587712  \n",
            "_________________________________________________________________\n",
            "dense_1 (Dense)              (None, 3)                 6147      \n",
            "=================================================================\n",
            "Total params: 23,593,859\n",
            "Trainable params: 6,147\n",
            "Non-trainable params: 23,587,712\n",
            "_________________________________________________________________\n",
            "None\n",
            "Found 593 images belonging to 3 classes.\n",
            "Found 597 images belonging to 3 classes.\n",
            "Epoch 1/3\n",
            "19/19 [==============================] - 481s 25s/step - loss: 0.4030 - accuracy: 0.8752 - val_loss: 0.2541 - val_accuracy: 0.9765\n",
            "Epoch 2/3\n",
            "19/19 [==============================] - 8s 430ms/step - loss: 0.0292 - accuracy: 1.0000 - val_loss: 0.0074 - val_accuracy: 0.9665\n",
            "Epoch 3/3\n",
            "19/19 [==============================] - 8s 432ms/step - loss: 0.0166 - accuracy: 1.0000 - val_loss: 0.0226 - val_accuracy: 0.9916\n"
          ],
          "name": "stdout"
        },
        {
          "output_type": "display_data",
          "data": {
            "image/png": "[encoded data removed]",
            "text/plain": [
              "<Figure size 432x288 with 1 Axes>"
            ]
          },
          "metadata": {
            "tags": [],
            "needs_background": "light"
          }
        },
        {
          "output_type": "display_data",
          "data": {
            "image/png": "[encoded data removed]",
            "text/plain": [
              "<Figure size 432x288 with 1 Axes>"
            ]
          },
          "metadata": {
            "tags": [],
            "needs_background": "light"
          }
        }
      ]
    },
    {
      "cell_type": "code",
      "metadata": {
        "id": "R4QR4SQ4hlQq",
        "colab_type": "code",
        "colab": {}
      },
      "source": [
        ""
      ],
      "execution_count": 0,
      "outputs": []
    }
  ]
}